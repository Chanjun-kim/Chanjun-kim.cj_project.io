{
  "nbformat": 4,
  "nbformat_minor": 0,
  "metadata": {
    "colab": {
      "name": "2021-07-18-Colab_git_connect.ipynb",
      "provenance": [],
      "collapsed_sections": [],
      "mount_file_id": "1rogasdOdxxhJwgWL_hwspdEqy-hxeIy7",
      "authorship_tag": "ABX9TyMhQRRpHX59ks2pH8jJrpyd",
      "include_colab_link": true
    },
    "kernelspec": {
      "name": "python3",
      "display_name": "Python 3"
    },
    "language_info": {
      "name": "python"
    },
    "accelerator": "GPU"
  },
  "cells": [
    {
      "cell_type": "markdown",
      "metadata": {
        "id": "view-in-github",
        "colab_type": "text"
      },
      "source": [
        "<a href=\"https://colab.research.google.com/github/Chanjun-kim/Chanjun-kim.cj_project.io/blob/main/_ipynb/2021_07_18_Colab_git_connect.ipynb\" target=\"_parent\"><img src=\"https://colab.research.google.com/assets/colab-badge.svg\" alt=\"Open In Colab\"/></a>"
      ]
    },
    {
      "cell_type": "code",
      "metadata": {
        "colab": {
          "base_uri": "https://localhost:8080/"
        },
        "id": "IaqXhzOX8xvN",
        "outputId": "d28fda8b-2633-43e1-e192-d9fb3d6af864"
      },
      "source": [
        "from google.colab import drive\n",
        "drive.mount(\"/content/drive\")\n",
        "%cd drive/MyDrive/\n",
        "!pwd"
      ],
      "execution_count": 1,
      "outputs": [
        {
          "output_type": "stream",
          "text": [
            "Drive already mounted at /content/drive; to attempt to forcibly remount, call drive.mount(\"/content/drive\", force_remount=True).\n",
            "/content/drive/MyDrive\n",
            "/content/drive/MyDrive\n"
          ],
          "name": "stdout"
        }
      ]
    },
    {
      "cell_type": "code",
      "metadata": {
        "colab": {
          "base_uri": "https://localhost:8080/"
        },
        "id": "sVhOTa3tDc4S",
        "outputId": "ab80ef42-ff24-41b5-9a33-6c96ef283c80"
      },
      "source": [
        "!git clone https://github.com/Chanjun-kim/Chanjun-kim.github.io.git"
      ],
      "execution_count": 2,
      "outputs": [
        {
          "output_type": "stream",
          "text": [
            "Cloning into 'Chanjun-kim.github.io'...\n",
            "remote: Enumerating objects: 1349, done.\u001b[K\n",
            "remote: Counting objects: 100% (1349/1349), done.\u001b[K\n",
            "remote: Compressing objects: 100% (1084/1084), done.\u001b[K\n",
            "remote: Total 1349 (delta 398), reused 1142 (delta 215), pack-reused 0\u001b[K\n",
            "Receiving objects: 100% (1349/1349), 30.10 MiB | 18.36 MiB/s, done.\n",
            "Resolving deltas: 100% (398/398), done.\n",
            "Checking out files: 100% (218/218), done.\n"
          ],
          "name": "stdout"
        }
      ]
    },
    {
      "cell_type": "code",
      "metadata": {
        "colab": {
          "base_uri": "https://localhost:8080/"
        },
        "id": "hd1_ScmmFc1z",
        "outputId": "4d7365bd-8bf6-46d9-fcf0-58e954e2ce58"
      },
      "source": [
        "%cd Chanjun-kim.github.io"
      ],
      "execution_count": 3,
      "outputs": [
        {
          "output_type": "stream",
          "text": [
            "/content/drive/MyDrive/Chanjun-kim.github.io\n"
          ],
          "name": "stdout"
        }
      ]
    },
    {
      "cell_type": "code",
      "metadata": {
        "colab": {
          "base_uri": "https://localhost:8080/"
        },
        "id": "X-In-bbp8BmC",
        "outputId": "f3210e67-44c0-4b94-f3c3-2aa3943301d4"
      },
      "source": [
        "!git init"
      ],
      "execution_count": 4,
      "outputs": [
        {
          "output_type": "stream",
          "text": [
            "Reinitialized existing Git repository in /content/drive/My Drive/Chanjun-kim.github.io/.git/\n"
          ],
          "name": "stdout"
        }
      ]
    },
    {
      "cell_type": "code",
      "metadata": {
        "id": "DFGHnR_mB2Ts"
      },
      "source": [
        "!git config --global user.email \"nice3803@gmail.com\"\n",
        "!git config --global user.name \"Chanjun-kim\""
      ],
      "execution_count": 5,
      "outputs": []
    },
    {
      "cell_type": "code",
      "metadata": {
        "id": "jOpRriTEE-AS"
      },
      "source": [
        "!git config --global init.defaultBranch main"
      ],
      "execution_count": 6,
      "outputs": []
    },
    {
      "cell_type": "code",
      "metadata": {
        "colab": {
          "base_uri": "https://localhost:8080/"
        },
        "id": "s-5AIp0_FGPB",
        "outputId": "6def5808-193d-4331-8e0a-47b97ebd1e81"
      },
      "source": [
        "!git checkout -B main"
      ],
      "execution_count": 7,
      "outputs": [
        {
          "output_type": "stream",
          "text": [
            "Reset branch 'main'\n",
            "Your branch is up to date with 'origin/main'.\n"
          ],
          "name": "stdout"
        }
      ]
    },
    {
      "cell_type": "code",
      "metadata": {
        "colab": {
          "base_uri": "https://localhost:8080/"
        },
        "id": "S6AA7sKJBWTG",
        "outputId": "7624907e-8bd4-4f19-b97e-a25693ef4585"
      },
      "source": [
        "!git status"
      ],
      "execution_count": 8,
      "outputs": [
        {
          "output_type": "stream",
          "text": [
            "On branch main\n",
            "Your branch is up to date with 'origin/main'.\n",
            "\n",
            "nothing to commit, working tree clean\n"
          ],
          "name": "stdout"
        }
      ]
    },
    {
      "cell_type": "code",
      "metadata": {
        "colab": {
          "base_uri": "https://localhost:8080/"
        },
        "id": "LdT9Ubn9BYSk",
        "outputId": "5c68ff65-9c3f-4ebc-b98c-162d6b9a8d0d"
      },
      "source": [
        "!git add ."
      ],
      "execution_count": 9,
      "outputs": [
        {
          "output_type": "stream",
          "text": [
            "^C\n"
          ],
          "name": "stdout"
        }
      ]
    },
    {
      "cell_type": "code",
      "metadata": {
        "id": "Xt7gmXzHBeym"
      },
      "source": [
        "!git commit -m \"commit test at the colab\""
      ],
      "execution_count": null,
      "outputs": []
    }
  ]
}